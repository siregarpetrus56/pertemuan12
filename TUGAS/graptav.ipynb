{
 "cells": [
  {
   "cell_type": "code",
   "execution_count": 1,
   "metadata": {},
   "outputs": [
    {
     "name": "stdout",
     "output_type": "stream",
     "text": [
      "a\n",
      "c\n",
      "e\n",
      "f\n",
      "d\n",
      "b\n"
     ]
    }
   ],
   "source": [
    "class Graph:\n",
    "    def __init__(self, gdict=None):\n",
    "        if gdict is None:\n",
    "            gdict = {}\n",
    "        self.gdict = gdict\n",
    "    \n",
    "    def addEdge(self, vertex, edge):\n",
    "        self.gdict[vertex].append(edge)\n",
    "    \n",
    "    def bfs(self, vertex):\n",
    "        visited = [vertex]\n",
    "        queue = [vertex]\n",
    "        while queue:\n",
    "            deVertex = queue.pop(0)\n",
    "            print(deVertex)\n",
    "            for adjacentVertex in self.gdict[deVertex]:\n",
    "                if adjacentVertex not in visited:\n",
    "                    visited.append(adjacentVertex)\n",
    "                    queue.append(adjacentVertex)\n",
    "    \n",
    "    def dfs(self, vertex):\n",
    "        visited = [vertex]\n",
    "        stack = [vertex]\n",
    "        while stack:\n",
    "            popVertex = stack.pop()\n",
    "            print(popVertex)\n",
    "            for adjacentVertex in self.gdict[popVertex]:\n",
    "                if adjacentVertex not in visited:\n",
    "                    visited.append(adjacentVertex)\n",
    "                    stack.append(adjacentVertex)\n",
    "    \n",
    "\n",
    "\n",
    "\n",
    "customDict = { \"a\" : [\"b\",\"c\"],\n",
    "            \"b\" : [\"a\", \"d\", \"e\"],\n",
    "            \"c\" : [\"a\", \"e\"],\n",
    "            \"d\" : [\"b\", \"e\", \"f\"],\n",
    "            \"e\" : [\"d\", \"f\", \"c\"],\n",
    "            \"f\" : [\"d\", \"e\"]\n",
    "               }\n",
    "\n",
    "\n",
    "\n",
    "g = Graph(customDict)\n",
    "g.dfs(\"a\")\n"
   ]
  }
 ],
 "metadata": {
  "kernelspec": {
   "display_name": "Python 3",
   "language": "python",
   "name": "python3"
  },
  "language_info": {
   "codemirror_mode": {
    "name": "ipython",
    "version": 3
   },
   "file_extension": ".py",
   "mimetype": "text/x-python",
   "name": "python",
   "nbconvert_exporter": "python",
   "pygments_lexer": "ipython3",
   "version": "3.10.10"
  },
  "orig_nbformat": 4
 },
 "nbformat": 4,
 "nbformat_minor": 2
}
