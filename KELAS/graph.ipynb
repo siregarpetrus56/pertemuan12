{
 "cells": [
  {
   "cell_type": "code",
   "execution_count": 16,
   "metadata": {},
   "outputs": [],
   "source": [
    "class Graph:\n",
    "    def __init__(self):\n",
    "        self.adjacency_list = {}\n",
    "    \n",
    "    def add_vertex(self, vertex):\n",
    "        if vertex not in self.adjacency_list.keys():\n",
    "            self.adjacency_list[vertex] = []\n",
    "            return True\n",
    "        return False\n",
    "    \n",
    "    def print_graph(self):\n",
    "        for vertex in self.adjacency_list:\n",
    "            print(vertex,\":\",self.adjacency_list[vertex])\n",
    "            \n",
    "    def add_edge(self, vertex1, vertex2):\n",
    "        if vertex1 in self.adjacency_list.keys() and vertex2 in self.adjacency_list.keys():\n",
    "            self.adjacency_list[vertex1].append(vertex2)\n",
    "            self.adjacency_list[vertex2].append(vertex1)\n",
    "            return True\n",
    "        return False\n",
    "    \n",
    "    def remove_edge(self, vertex1, vertex2):\n",
    "        if vertex1 in self.adjacency_list.keys() and vertex2 in self.adjacency_list.keys():\n",
    "            try:\n",
    "                self.adjacency_list[vertex1].remove(vertex2)\n",
    "                self.adjacency_list[vertex2].remove(vertex1)\n",
    "            except ValueError:\n",
    "                pass\n",
    "            return True\n",
    "        return False\n",
    "    \n",
    "    def remove_vertex(self, vertex):\n",
    "        if vertex in self.adjacency_list.keys():\n",
    "            for other_vertex in self.adjacency_list[vertex]:\n",
    "                self.adjacency_list[other_vertex].remove(vertex)\n",
    "            del self.adjacency_list[vertex]\n",
    "            return True\n",
    "        return False"
   ]
  },
  {
   "cell_type": "code",
   "execution_count": 17,
   "metadata": {},
   "outputs": [],
   "source": [
    "my_graph = Graph()"
   ]
  },
  {
   "cell_type": "code",
   "execution_count": 18,
   "metadata": {},
   "outputs": [
    {
     "data": {
      "text/plain": [
       "True"
      ]
     },
     "execution_count": 18,
     "metadata": {},
     "output_type": "execute_result"
    }
   ],
   "source": [
    "my_graph.add_vertex(\"A\")\n",
    "my_graph.add_vertex(\"B\")\n",
    "my_graph.add_vertex(\"C\")\n",
    "my_graph.add_vertex(\"D\")"
   ]
  },
  {
   "cell_type": "code",
   "execution_count": 19,
   "metadata": {},
   "outputs": [
    {
     "data": {
      "text/plain": [
       "True"
      ]
     },
     "execution_count": 19,
     "metadata": {},
     "output_type": "execute_result"
    }
   ],
   "source": [
    "my_graph.add_edge(\"A\", \"B\")\n",
    "my_graph.add_edge(\"A\", \"C\")\n",
    "my_graph.add_edge(\"A\", \"D\")\n",
    "my_graph.add_edge(\"B\", \"C\")\n",
    "my_graph.add_edge(\"C\", \"D\")"
   ]
  },
  {
   "cell_type": "code",
   "execution_count": 20,
   "metadata": {},
   "outputs": [
    {
     "name": "stdout",
     "output_type": "stream",
     "text": [
      "A : ['B', 'C', 'D']\n",
      "B : ['A', 'C']\n",
      "C : ['A', 'B', 'D']\n",
      "D : ['A', 'C']\n"
     ]
    }
   ],
   "source": [
    "my_graph.print_graph()"
   ]
  },
  {
   "cell_type": "code",
   "execution_count": 21,
   "metadata": {},
   "outputs": [
    {
     "name": "stdout",
     "output_type": "stream",
     "text": [
      "After remove..\n"
     ]
    }
   ],
   "source": [
    "my_graph.remove_vertex(\"A\")\n",
    "print(\"After remove..\")"
   ]
  },
  {
   "cell_type": "code",
   "execution_count": 23,
   "metadata": {},
   "outputs": [
    {
     "name": "stdout",
     "output_type": "stream",
     "text": [
      "B : ['C']\n",
      "C : ['B', 'D']\n",
      "D : ['C']\n"
     ]
    }
   ],
   "source": [
    "my_graph.print_graph()"
   ]
  },
  {
   "cell_type": "code",
   "execution_count": null,
   "metadata": {},
   "outputs": [],
   "source": []
  }
 ],
 "metadata": {
  "kernelspec": {
   "display_name": "Python 3",
   "language": "python",
   "name": "python3"
  },
  "language_info": {
   "codemirror_mode": {
    "name": "ipython",
    "version": 3
   },
   "file_extension": ".py",
   "mimetype": "text/x-python",
   "name": "python",
   "nbconvert_exporter": "python",
   "pygments_lexer": "ipython3",
   "version": "3.10.10"
  },
  "orig_nbformat": 4
 },
 "nbformat": 4,
 "nbformat_minor": 2
}
