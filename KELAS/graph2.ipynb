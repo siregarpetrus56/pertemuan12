{
 "cells": [
  {
   "cell_type": "code",
   "execution_count": 41,
   "metadata": {},
   "outputs": [],
   "source": [
    "class Graph:\n",
    "    def __init__(self, gdict=None):\n",
    "        if gdict is None:\n",
    "            gdict = {}\n",
    "        self.gdict = gdict\n",
    "        \n",
    "def addEdge(self, vertex, edge):\n",
    "    self.gdict[vertex].append(edge)\n",
    "\n",
    "def bfs(self, vertex):\n",
    "    visited = [vertex]\n",
    "    queue = [vertex]\n",
    "    while queue:\n",
    "        deVertex = queue.pop(0)\n",
    "        print(deVertex)\n",
    "        for adjacentVertex in self.gdict[deVertex]:\n",
    "            if adjacentVertex not in visited:\n",
    "                visited.append(adjacentVertex)\n",
    "                queue.append(adjacentVertex)\n",
    "\n",
    "def dfs(self, vertex):\n",
    "    visited = [vertex]\n",
    "    stack = [vertex]\n",
    "    while stack:\n",
    "        popVertex = stack.pop()\n",
    "        print(popVertex)\n",
    "        for adjacentVertex in self.gdict[popVertex]:\n",
    "            if adjacentVertex not in visited:\n",
    "                visited.append(adjacentVertex)\n",
    "                stack.append(adjacentVertex)"
   ]
  },
  {
   "cell_type": "code",
   "execution_count": 42,
   "metadata": {},
   "outputs": [],
   "source": [
    "customDict = {\"a\" :[\"b\", \"c\"],\n",
    "              \"b\" :[\"a\", \"d\", \"e\"],\n",
    "              \"c\" :[\"a\", \"e\"],\n",
    "              \"d\" :[\"b\", \"e\", \"f\"],\n",
    "              \"e\" :[\"d\", \"f\", \"c\"],\n",
    "              \"f\" :[\"d\", \"e\"]\n",
    "                }"
   ]
  },
  {
   "cell_type": "code",
   "execution_count": 43,
   "metadata": {},
   "outputs": [],
   "source": [
    "g = Graph(customDict)"
   ]
  },
  {
   "cell_type": "code",
   "execution_count": 44,
   "metadata": {},
   "outputs": [
    {
     "ename": "AttributeError",
     "evalue": "'Graph' object has no attribute 'dfs'",
     "output_type": "error",
     "traceback": [
      "\u001b[1;31m---------------------------------------------------------------------------\u001b[0m",
      "\u001b[1;31mAttributeError\u001b[0m                            Traceback (most recent call last)",
      "Cell \u001b[1;32mIn[44], line 1\u001b[0m\n\u001b[1;32m----> 1\u001b[0m g\u001b[39m.\u001b[39;49mdfs(\u001b[39m\"\u001b[39m\u001b[39ma\u001b[39m\u001b[39m\"\u001b[39m)\n",
      "\u001b[1;31mAttributeError\u001b[0m: 'Graph' object has no attribute 'dfs'"
     ]
    }
   ],
   "source": [
    "g.dfs(\"a\")"
   ]
  }
 ],
 "metadata": {
  "kernelspec": {
   "display_name": "Python 3",
   "language": "python",
   "name": "python3"
  },
  "language_info": {
   "codemirror_mode": {
    "name": "ipython",
    "version": 3
   },
   "file_extension": ".py",
   "mimetype": "text/x-python",
   "name": "python",
   "nbconvert_exporter": "python",
   "pygments_lexer": "ipython3",
   "version": "3.10.10"
  },
  "orig_nbformat": 4
 },
 "nbformat": 4,
 "nbformat_minor": 2
}
